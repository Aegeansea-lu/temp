{
 "cells": [
  {
   "cell_type": "markdown",
   "id": "12a709ef",
   "metadata": {},
   "source": [
    "# Table of Contents <a name=\"TOC\"></a>\n",
    "\n",
    "1. [Sec 0: Introduction](#IN)\n",
    "2. [Sec 1: Base Models (WGAN)](#BM)\n",
    "3. [Sec 2: Spectral Normalization](#SN)\n",
    "4. [Sec 3: Self-Attention](#ATT)\n",
    "5. [Sec 4: Orthogonaliozation (and everything)](#OG)\n",
    "6. [Sec 5: Final Comment](#FC)\n"
   ]
  },
  {
   "cell_type": "markdown",
   "id": "c21d65d5",
   "metadata": {},
   "source": [
    "## Sec 0: Introductions <a name=\"IN\"></a>\n",
    "[Back to TOC](#TOC)\n",
    "In this lab, we trained two base models with class encoding and then implemented several tricks from the bag of tricks we are expected to employ.\n"
   ]
  },
  {
   "cell_type": "code",
   "execution_count": null,
   "id": "b8dcb477",
   "metadata": {},
   "outputs": [],
   "source": []
  }
 ],
 "metadata": {
  "kernelspec": {
   "display_name": "Python 3 (ipykernel)",
   "language": "python",
   "name": "python3"
  },
  "language_info": {
   "codemirror_mode": {
    "name": "ipython",
    "version": 3
   },
   "file_extension": ".py",
   "mimetype": "text/x-python",
   "name": "python",
   "nbconvert_exporter": "python",
   "pygments_lexer": "ipython3",
   "version": "3.7.11"
  }
 },
 "nbformat": 4,
 "nbformat_minor": 5
}
